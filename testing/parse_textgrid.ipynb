{
 "cells": [
  {
   "cell_type": "code",
   "execution_count": 1,
   "metadata": {},
   "outputs": [],
   "source": [
    "import textgrids"
   ]
  },
  {
   "cell_type": "code",
   "execution_count": 29,
   "metadata": {},
   "outputs": [
    {
     "name": "stdout",
     "output_type": "stream",
     "text": [
      "File type = \"ooTextFile\"\n",
      "Object class = \"TextGrid\"\n",
      "\n",
      "xmin = 0.0\n",
      "xmax = 3.2350625\n",
      "tiers? <exists>\n",
      "size = 2\n",
      "item []:\n",
      "    item [1]:\n",
      "        class = \"PointTier\"\n",
      "        name = \"tones\"\n",
      "        xmin = 0.0\n",
      "        xmax = 3.2350625\n",
      "        points: size = 4\n",
      "            points [1]:\n",
      "                xpos = 0.0\n",
      "                text = \"!H*\"\n",
      "            points [2]:\n",
      "                xpos = 1.75\n",
      "                text = \"L*\"\n",
      "            points [3]:\n",
      "                xpos = 2.2800000000000002\n",
      "                text = \"L*\"\n",
      "            points [4]:\n",
      "                xpos = 2.855\n",
      "                text = \"L*\"\n",
      "    item [1]:\n",
      "        class = \"PointTier\"\n",
      "        name = \"breaks\"\n",
      "        xmin = 0.0\n",
      "        xmax = 3.2350625\n",
      "        points: size = 8\n",
      "            points [1]:\n",
      "                xpos = 0.41\n",
      "                text = \"1\"\n",
      "            points [2]:\n",
      "                xpos = 0.54\n",
      "                text = \"1\"\n",
      "            points [3]:\n",
      "                xpos = 0.67\n",
      "                text = \"1\"\n",
      "            points [4]:\n",
      "                xpos = 1.08\n",
      "                text = \"2\"\n",
      "            points [5]:\n",
      "                xpos = 1.58\n",
      "                text = \"1\"\n",
      "            points [6]:\n",
      "                xpos = 2.01\n",
      "                text = \"2\"\n",
      "            points [7]:\n",
      "                xpos = 2.61\n",
      "                text = \"2\"\n",
      "            points [8]:\n",
      "                xpos = 3.2350625\n",
      "                text = \"1\"\n"
     ]
    }
   ],
   "source": [
    "tgrid = textgrids.TextGrid('../src/ProSS/alignment/aligned_post/bdl_arctic_a0001.TextGrid')\n",
    "#print(tgrid)\n",
    "agrid = textgrids.TextGrid('../src/ProSS/alignment/aligned_post/bdl_arctic_a0001_result.TextGrid')\n",
    "print(agrid)"
   ]
  },
  {
   "cell_type": "code",
   "execution_count": 32,
   "metadata": {},
   "outputs": [
    {
     "name": "stdout",
     "output_type": "stream",
     "text": [
      "<Interval text=\"\" xmin=0.0 xmax=0.03>\n",
      "Point(text='!H*', xpos=0.0)\n"
     ]
    }
   ],
   "source": [
    "\n",
    "print(tgrid['words'][0])\n",
    "print(agrid['tones'][0])"
   ]
  }
 ],
 "metadata": {
  "kernelspec": {
   "display_name": "Python 3.8.10 64-bit (microsoft store)",
   "language": "python",
   "name": "python3"
  },
  "language_info": {
   "codemirror_mode": {
    "name": "ipython",
    "version": 3
   },
   "file_extension": ".py",
   "mimetype": "text/x-python",
   "name": "python",
   "nbconvert_exporter": "python",
   "pygments_lexer": "ipython3",
   "version": "3.8.10"
  },
  "orig_nbformat": 4,
  "vscode": {
   "interpreter": {
    "hash": "95fee283cad2380c3bbb086be18af1e1d950b8d84e571fde4cd1d4f314b30685"
   }
  }
 },
 "nbformat": 4,
 "nbformat_minor": 2
}
