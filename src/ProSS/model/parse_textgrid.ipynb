{
 "cells": [
  {
   "cell_type": "code",
   "execution_count": 1,
   "metadata": {},
   "outputs": [],
   "source": [
    "import textgrids\n",
    "import os\n",
    "from tqdm import tqdm\n",
    "import sys\n",
    "from tacotron2.text import text_to_sequence\n",
    "import numpy as np\n",
    "import torch\n",
    "from tobi_processing import *"
   ]
  },
  {
   "cell_type": "code",
   "execution_count": 2,
   "metadata": {},
   "outputs": [
    {
     "name": "stdout",
     "output_type": "stream",
     "text": [
      "File type = \"ooTextFile\"\n",
      "Object class = \"TextGrid\"\n",
      "\n",
      "xmin = 0.0\n",
      "xmax = 3.2350625\n",
      "tiers? <exists>\n",
      "size = 2\n",
      "item []:\n",
      "    item [1]:\n",
      "        class = \"PointTier\"\n",
      "        name = \"tones\"\n",
      "        xmin = 0.0\n",
      "        xmax = 3.2350625\n",
      "        points: size = 4\n",
      "            points [1]:\n",
      "                xpos = 0.0\n",
      "                text = \"!H*\"\n",
      "            points [2]:\n",
      "                xpos = 1.75\n",
      "                text = \"L*\"\n",
      "            points [3]:\n",
      "                xpos = 2.2800000000000002\n",
      "                text = \"L*\"\n",
      "            points [4]:\n",
      "                xpos = 2.855\n",
      "                text = \"L*\"\n",
      "    item [1]:\n",
      "        class = \"PointTier\"\n",
      "        name = \"breaks\"\n",
      "        xmin = 0.0\n",
      "        xmax = 3.2350625\n",
      "        points: size = 8\n",
      "            points [1]:\n",
      "                xpos = 0.41\n",
      "                text = \"1\"\n",
      "            points [2]:\n",
      "                xpos = 0.54\n",
      "                text = \"1\"\n",
      "            points [3]:\n",
      "                xpos = 0.67\n",
      "                text = \"1\"\n",
      "            points [4]:\n",
      "                xpos = 1.08\n",
      "                text = \"2\"\n",
      "            points [5]:\n",
      "                xpos = 1.58\n",
      "                text = \"1\"\n",
      "            points [6]:\n",
      "                xpos = 2.01\n",
      "                text = \"2\"\n",
      "            points [7]:\n",
      "                xpos = 2.61\n",
      "                text = \"2\"\n",
      "            points [8]:\n",
      "                xpos = 3.2350625\n",
      "                text = \"1\"\n"
     ]
    }
   ],
   "source": [
    "tgrid = textgrids.TextGrid('../alignment/aligned_post/bdl_arctic_a0001.TextGrid')\n",
    "#print(tgrid)\n",
    "agrid = textgrids.TextGrid('../alignment/aligned_post/bdl_arctic_a0001_result.TextGrid')\n",
    "print(agrid)"
   ]
  },
  {
   "cell_type": "code",
   "execution_count": 3,
   "metadata": {},
   "outputs": [
    {
     "name": "stdout",
     "output_type": "stream",
     "text": [
      "[<Interval text=\"\" xmin=0.0 xmax=0.03>, <Interval text=\"author\" xmin=0.03 xmax=0.41>, <Interval text=\"of\" xmin=0.41 xmax=0.54>, <Interval text=\"the\" xmin=0.54 xmax=0.67>, <Interval text=\"danger\" xmin=0.67 xmax=1.08>, <Interval text=\"trail\" xmin=1.08 xmax=1.58>, <Interval text=\"philip\" xmin=1.58 xmax=2.01>, <Interval text=\"steels\" xmin=2.01 xmax=2.61>, <Interval text=\"etc\" xmin=2.61 xmax=3.2350625>]\n",
      "\n",
      "[Point(text='!H*', xpos=0.0), Point(text='L*', xpos=1.75), Point(text='L*', xpos=2.2800000000000002), Point(text='L*', xpos=2.855)]\n",
      "\n",
      "[Point(text='1', xpos=0.41), Point(text='1', xpos=0.54), Point(text='1', xpos=0.67), Point(text='2', xpos=1.08), Point(text='1', xpos=1.58), Point(text='2', xpos=2.01), Point(text='2', xpos=2.61), Point(text='1', xpos=3.2350625)]\n"
     ]
    }
   ],
   "source": [
    "print(tgrid['words'])\n",
    "print()\n",
    "print(agrid['tones'])\n",
    "print()\n",
    "print(agrid['breaks'])"
   ]
  },
  {
   "cell_type": "code",
   "execution_count": 4,
   "metadata": {},
   "outputs": [
    {
     "name": "stdout",
     "output_type": "stream",
     "text": [
      "[['', '!H*', 'N'], ['author', 'N', '1'], ['of', 'N', '1'], ['the', 'N', '1'], ['danger', 'N', '2'], ['trail', 'N', '1'], ['philip', 'L*', '2'], ['steels', 'L*', '2'], ['etc', 'L*', '1']]\n",
      "tensor([11, 38, 58, 57, 45, 52, 55, 11, 52, 43, 11, 57, 45, 42, 11, 41, 38, 51,\n",
      "        44, 42, 55, 11, 57, 55, 38, 46, 49, 11, 53, 45, 46, 49, 46, 53, 11, 56,\n",
      "        57, 42, 42, 49, 56, 11, 42, 57, 40, 11,  7, -2, -1,  7, -1,  7, -1,  7,\n",
      "        -1,  8, -1,  7,  1,  3,  8,  1,  3,  8,  1,  3,  7])\n"
     ]
    }
   ],
   "source": [
    "y = align_annotation(tgrid['words'], agrid['tones'], agrid['breaks'])\n",
    "print(y)\n",
    "\n",
    "z = encode_text_with_tobi(y)\n",
    "print(z)"
   ]
  },
  {
   "cell_type": "code",
   "execution_count": 5,
   "metadata": {},
   "outputs": [
    {
     "name": "stderr",
     "output_type": "stream",
     "text": [
      "100%|██████████| 10185/10185 [02:57<00:00, 57.50it/s]\n"
     ]
    }
   ],
   "source": [
    "agrid = None\n",
    "tgrid = None\n",
    "curr_idx = 0\n",
    "import time\n",
    "with tqdm(range(len(os.listdir('../alignment/aligned_post/'))), total=len(os.listdir('../alignment/aligned_post/'))) as pbar:\n",
    "#curr = 0\n",
    "    for file in os.listdir('../alignment/aligned_post/'):\n",
    "        #print(file)\n",
    "        #print('{}/{}'.format(curr,len(os.listdir('../src/ProSS/alignment/aligned_post/'))))\n",
    "        if 'result.TextGrid' in file:\n",
    "            #print(file)\n",
    "            #print(file[:-16])\n",
    "            agrid = textgrids.TextGrid('../alignment/aligned_post/{}'.format(file))\n",
    "            tgrid = textgrids.TextGrid('../alignment/aligned_post/{}.textGrid'.format(file[:-16]))\n",
    "            y = align_annotation(tgrid['words'], agrid['tones'], agrid['breaks'])\n",
    "            z = encode_text_with_tobi(y)\n",
    "        #curr += 1\n",
    "\n",
    "    \n",
    "            #print(y)\n",
    "        #print(file)\n",
    "        pbar.update()\n",
    "        time.sleep(0.01)\n",
    "    "
   ]
  }
 ],
 "metadata": {
  "kernelspec": {
   "display_name": "Python 3.8.10 64-bit (microsoft store)",
   "language": "python",
   "name": "python3"
  },
  "language_info": {
   "codemirror_mode": {
    "name": "ipython",
    "version": 3
   },
   "file_extension": ".py",
   "mimetype": "text/x-python",
   "name": "python",
   "nbconvert_exporter": "python",
   "pygments_lexer": "ipython3",
   "version": "3.8.10"
  },
  "orig_nbformat": 4,
  "vscode": {
   "interpreter": {
    "hash": "95fee283cad2380c3bbb086be18af1e1d950b8d84e571fde4cd1d4f314b30685"
   }
  }
 },
 "nbformat": 4,
 "nbformat_minor": 2
}
