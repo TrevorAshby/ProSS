{
 "cells": [
  {
   "cell_type": "markdown",
   "metadata": {},
   "source": [
    "# Make sure that Miniconda3 and MFA are isntall and working prior to running these cells\n",
    "- command \"mfa align --help\" should print help"
   ]
  },
  {
   "cell_type": "code",
   "execution_count": null,
   "metadata": {},
   "outputs": [],
   "source": [
    "# copy wavs into aligned_pre\n",
    "import os\n",
    "import shutil\n",
    "\n",
    "source_folder = r\"../cmu_arctic/cmu_us_bdl_arctic/wav/\"\n",
    "destination_folder = r\"./aligned_pre/\"\n",
    "\n",
    "# fetch all files\n",
    "for file_name in os.listdir(source_folder):\n",
    "    # construct full file path\n",
    "    source = source_folder + file_name\n",
    "    destination = destination_folder + \"bdl_\" + file_name\n",
    "    # copy only files\n",
    "    if os.path.isfile(source):\n",
    "        if \".wav\" in file_name:\n",
    "            shutil.copy(source, destination)\n",
    "            print('copied', file_name)"
   ]
  },
  {
   "cell_type": "code",
   "execution_count": 14,
   "metadata": {},
   "outputs": [
    {
     "name": "stderr",
     "output_type": "stream",
     "text": [
      "100%|██████████| 1131/1131 [00:00<00:00, 3681.76it/s]\n"
     ]
    }
   ],
   "source": [
    "# create transcript files from metadata.csv\n",
    "#lines = open('./ljs/LJSpeech-1.1/metadata.csv', 'r').readlines()\n",
    "lines = open('../cmu_arctic/cmu_us_bdl_arctic/etc/txt.done.data', 'r').readlines()\n",
    "from tqdm.auto import tqdm\n",
    "for line in tqdm(lines):\n",
    "    temp = line.split('\"')\n",
    "    transcript = temp[1]\n",
    "    #print(transcript)\n",
    "    fn = temp[0].split(' ')[1]\n",
    "    #print(fn)\n",
    "    ident = fn\n",
    "    open(f'./aligned_pre/bdl_{ident}.txt', 'w').write(transcript)\n",
    "\n",
    "# this is an example transcript for LJ001-0001.wav\n",
    "#!cat ./wav/LJ001-0001.txt"
   ]
  },
  {
   "cell_type": "code",
   "execution_count": 15,
   "metadata": {},
   "outputs": [
    {
     "name": "stdout",
     "output_type": "stream",
     "text": [
      "english.zip         100%[===================>]  14.05M  8.84MB/s    in 1.6s    \n",
      "librispeech-lexicon 100%[===================>]   5.37M  1.68MB/s    in 3.2s    \n"
     ]
    }
   ],
   "source": [
    "# download a pretrained english acoustic model, and english lexicon\n",
    "!wget -q --show-progress -o ./english.zip= https://github.com/MontrealCorpusTools/mfa-models/raw/main/acoustic/english.zip\n",
    "!wget -q --show-progress -o ./librispeech-lexicon.txt http://www.openslr.org/resources/11/librispeech-lexicon.txt"
   ]
  },
  {
   "cell_type": "code",
   "execution_count": 16,
   "metadata": {},
   "outputs": [],
   "source": [
    "# see: https://github.com/MontrealCorpusTools/Montreal-Forced-Aligner/pull/480\n",
    "import re\n",
    "lexicon = open(\"./librispeech-lexicon.txt\").readlines()\n",
    "sp = re.compile(\"\\s+\")\n",
    "with open(\"./modified_librispeech-lexicon.txt\", \"w\") as f:\n",
    "    for line in lexicon:\n",
    "        word, *phonemes = sp.split(line.strip())\n",
    "        phonemes = \" \".join(phonemes)\n",
    "        f.write(f\"{word}\\t{phonemes}\\n\")"
   ]
  },
  {
   "cell_type": "markdown",
   "metadata": {},
   "source": [
    "- Finish with command \"mfa align -t ./temp -j 4 ./aligned_pre ./modified_librispeech-lexicon.txt ./english.zip ./aligned_post\""
   ]
  }
 ],
 "metadata": {
  "kernelspec": {
   "display_name": "Python 3.10.8 64-bit",
   "language": "python",
   "name": "python3"
  },
  "language_info": {
   "codemirror_mode": {
    "name": "ipython",
    "version": 3
   },
   "file_extension": ".py",
   "mimetype": "text/x-python",
   "name": "python",
   "nbconvert_exporter": "python",
   "pygments_lexer": "ipython3",
   "version": "3.10.8"
  },
  "orig_nbformat": 4,
  "vscode": {
   "interpreter": {
    "hash": "aee8b7b246df8f9039afb4144a1f6fd8d2ca17a180786b69acc140d282b71a49"
   }
  }
 },
 "nbformat": 4,
 "nbformat_minor": 2
}
